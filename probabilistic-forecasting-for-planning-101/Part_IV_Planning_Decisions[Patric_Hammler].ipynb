{
  "cells": [
    {
      "cell_type": "markdown",
      "metadata": {
        "id": "view-in-github",
        "colab_type": "text"
      },
      "source": [
        "<a href=\"https://colab.research.google.com/github/mcallara/probabilistic-forecasting-for-planning-101/blob/main/Part_IV_Planning_Decisions%5BPatric_Hammler%5D.ipynb\" target=\"_parent\"><img src=\"https://colab.research.google.com/assets/colab-badge.svg\" alt=\"Open In Colab\"/></a>"
      ]
    },
    {
      "cell_type": "markdown",
      "id": "951fecda-897e-4b44-92b6-346b3814c4e5",
      "metadata": {
        "id": "951fecda-897e-4b44-92b6-346b3814c4e5"
      },
      "source": [
        "# 1. Structure of the Notebook"
      ]
    },
    {
      "cell_type": "markdown",
      "id": "c6335b31-cae2-483e-9670-50a0614e5b9f",
      "metadata": {
        "id": "c6335b31-cae2-483e-9670-50a0614e5b9f"
      },
      "source": [
        "2. Introduction to the Business Cases [5 min]\n",
        "3. Simulation framework [3 min]\n",
        "4. Code Setup [1 min]\n",
        "5. Environment Modeling [15 min]\n",
        "6. Agent Modeling [5 min]\n",
        "7. Build the Simulation Framework [10 min]\n",
        "8. Decision-Making [5 min]"
      ]
    },
    {
      "cell_type": "markdown",
      "id": "65e1a087-31a9-4b41-9dcd-ef14bbbc962a",
      "metadata": {
        "id": "65e1a087-31a9-4b41-9dcd-ef14bbbc962a"
      },
      "source": [
        "# 2. Introduction to the Business Case\n",
        "## 2.1 Perspective\n",
        "As a data science consultant engaged by a pharmaceutical company, you provide expertise in optimizing inventory decisions. Under the guidance of Stephanie Brueckner, the head of the commercial department, you have access to a dataset comprising 100 potential future demand scenarios.\n",
        "\n",
        "## 2.2 The Business Case\n",
        "The client, operating a retail warehouse, seeks to determine optimal reorder quantities to facilitate timely replenishment at a factory. The factory, responsible for forecasting demand to plan production capacities, is initiating communication with all retail warehouses to coordinate reorder decisions. The primary inquiry pertains to the retail warehouse's timing and volume of reorder placements throughout the future. The objective is to identify reorder quantities that minimize operational costs, encompassing holding, shortage, and transportation expenses. Adherence to a predefined reorder policy outlined in the contractual agreement is imperative.\n",
        "\n",
        "## 2.3 The Reorder Policy\n",
        "Orders are restricted to once per month and must be submitted within the initial week of each month. Additionally, there exists a 14 days lead time, denoting the duration between order placement and replenishment. The ultimate goal is to determine the optimal reorder quantity for all forthcoming orders, synthesizing available data and pertinent parameters to inform decision-making effectively.\n",
        "\n",
        "## 2.4 Optimization objective\n",
        "\n",
        "### 2.4.1 Holding costs\n",
        "The holding cost results from warehouse operations, which entail expenses such as energy consumption and rental fees, which increase proportionally with inventory levels.\n",
        "\n",
        "### 2.4.2 Shortage costs\n",
        "On the other hand, shortage costs arise from lost sales and potential damage to the company's reputation due to stockouts. Given the critical nature of the pharmaceutical product, particularly its impact on patients' lives, the emphasis lies on avoiding stockouts at all costs, thus warranting a high shortage cost factor.\n",
        "\n",
        "### 2.4.3 Transportation costs\n",
        "Transportation costs encompass all expenses associated with the movement of inventory from the factory to the retail warehouse, covering logistics and pre-replenishment quality assessments. Notably, these costs exhibit minimal variation with quantity and are consistently estimated at 20000 CHF per shipment.\n",
        "\n",
        "### 2.4.4 Optimization objective\n",
        "In our pursuit of optimal reorder quantities, we must strike a delicate balance, considering the trade-off between excess inventory leading to inflated holding costs and insufficient inventory necessitating frequent reorders, which in turn can escalate transportation expenses or result in stockouts. Ultimately, the total cost calculation encompasses the summation of shortage costs, holding costs, and transportation costs.\n",
        "\n",
        "c_total = c_shortage + c_holding + c_transportation"
      ]
    },
    {
      "cell_type": "markdown",
      "id": "46729f7d-0cc0-439b-ac26-e82e6827b239",
      "metadata": {
        "id": "46729f7d-0cc0-439b-ac26-e82e6827b239"
      },
      "source": [
        "# 3. Simulation Framework\n",
        "\n",
        "We aim to address this optimization challenge through the utilization of a simulation framework. The methodology involves defining a reorder policy, comprising a predetermined list of reorder quantities for each forthcoming month, and applying it within an environment designed to closely mimic real-world conditions. The output of this simulation is the incurred cost, reflecting the efficacy of the reorder policy. Leveraging 100 distinct demand trajectories representing various potential future scenarios, we iterate this process for each scenario and subsequently evaluate key performance indicators (KPIs) such as average total cost or maximum cost. We consider these costs as indicative of the quality of a given reorder policy, using them as the focal point of optimization efforts aimed at identifying the policy that minimizes overall costs. For clarity, we delineate between two integral components within the simulation: the environment and the agent.\n",
        "\n",
        "## 3.1 Environment\n",
        "\n",
        "The environment serves to depict the dynamics of the system, encapsulating the fluctuating inventory levels within the warehouse at each time step. These variations may arise from factors such as incoming replenishments or outgoing inventory resulting from sales transactions. In the context of this workshop, the environment encompasses both a factory and a retail warehouse. Whenever the retail warehouse initiates a reorder, it triggers the generation of a shipment, which subsequently arrives after a designated number of days, defined as the lead time.\n",
        "\n",
        "## 3.2 Agent\n",
        "\n",
        "The agent assumes the responsibility of decision-making within the simulation. In this particular scenario, the agent adheres to a straightforward policy. It evaluates whether the current day falls within the first week of the month. If not, the reorder quantity is set to zero, in accordance with contractual constraints stipulating that only one order per month is permitted. Conversely, if the condition is met, the quantity is selected from a predetermined list of reorder quantities."
      ]
    },
    {
      "cell_type": "markdown",
      "source": [
        "# 4. Code Setup"
      ],
      "metadata": {
        "id": "Duw0bXCHEIGK"
      },
      "id": "Duw0bXCHEIGK"
    },
    {
      "cell_type": "code",
      "source": [
        "# import all required packages\n",
        "from pathlib import Path\n",
        "import datetime\n",
        "import numpy as np\n",
        "import pandas as pd\n",
        "import pickle\n",
        "import plotly.express as px\n",
        "import plotly.graph_objects as go\n",
        "import scipy.optimize as spo\n",
        "import yaml"
      ],
      "metadata": {
        "id": "nnslq9vnEeOk"
      },
      "id": "nnslq9vnEeOk",
      "execution_count": null,
      "outputs": []
    },
    {
      "cell_type": "code",
      "source": [
        "# get the current path\n",
        "PATH = Path().absolute()"
      ],
      "metadata": {
        "id": "zrjs_q7DEgR0"
      },
      "id": "zrjs_q7DEgR0",
      "execution_count": null,
      "outputs": []
    },
    {
      "cell_type": "code",
      "source": [
        "# download the data\n",
        "!wget https://raw.githubusercontent.com/mcallara/probabilistic-forecasting-for-planning-101/main/simulations.csv"
      ],
      "metadata": {
        "id": "oeWGy-B5GgT1"
      },
      "id": "oeWGy-B5GgT1",
      "execution_count": null,
      "outputs": []
    },
    {
      "cell_type": "code",
      "source": [
        "# setup a config dictionary - this is important to have a single source of truth\n",
        "config = {\n",
        "    'reorder_policy': 'monthly',\n",
        "    'monthly_reorder_policy': {\n",
        "        'quantities': [45, 80, 74, 76, 157, 164, 174, 192, 132, 133, 170, 130]\n",
        "    },\n",
        "    'retail_warehouse': {\n",
        "        'start_ioh': 100,\n",
        "        'sales_price': 100,\n",
        "        'lost_sales_multiplier': 5,\n",
        "        'holding_cost_multiplier': 0.1,\n",
        "        'purchase_price': 80,\n",
        "        'transportation_cost': 20000,\n",
        "        'lead_time_in_days': 14\n",
        "    }\n",
        "}"
      ],
      "metadata": {
        "id": "OKhgKEB7EjKl"
      },
      "id": "OKhgKEB7EjKl",
      "execution_count": null,
      "outputs": []
    },
    {
      "cell_type": "code",
      "source": [
        "# write a logger class - this is just for the documentation purposes and we can skip it for now\n",
        "class Logger:\n",
        "    def __init__(self):\n",
        "        self.params = {}\n",
        "        self.policy_params = {}\n",
        "\n",
        "    def log_values(self, params):\n",
        "        for key in params:\n",
        "            if key not in self.params:\n",
        "                self.params[key] = [params[key]]\n",
        "            else:\n",
        "                self.params[key].append(params[key])\n",
        "\n",
        "    def save(self):\n",
        "        filename = str(datetime.datetime.now()).replace(\" \", \"_\").replace(\":\", \"-\").split(\".\")[0]\n",
        "        with open(PATH / \"artifacts\" / f'{filename}.pickle', 'wb') as handle:\n",
        "            pickle.dump(self, handle, protocol=pickle.HIGHEST_PROTOCOL)\n",
        "\n",
        "    def create_log_statistics(self):\n",
        "\n",
        "        log_statistics = {}\n",
        "\n",
        "        # calculate the episodic total cost for all realizations\n",
        "        log_statistics[\"episodic_cost_distribution\"] = [\n",
        "            sum(wl.params[\"total_cost\"]) for wl in self.params[\"weekly_logs\"]\n",
        "        ]\n",
        "\n",
        "        # calculate the mean total cost for all realizations\n",
        "        log_statistics[\"episodic_total_cost_mean\"] = np.mean(\n",
        "            [sum(wl.params[\"total_cost\"]) for wl in self.params[\"weekly_logs\"]]\n",
        "        )\n",
        "\n",
        "        # calculate the max total cost for all realizations\n",
        "        log_statistics[\"episodic_total_cost_max\"] = np.max(\n",
        "            [sum(wl.params[\"total_cost\"]) for wl in self.params[\"weekly_logs\"]]\n",
        "        )\n",
        "\n",
        "        # calculate the holding cost ratio compared to total cost for all realizations\n",
        "        log_statistics[\"episodic_holding_cost_ratio\"] = np.mean(\n",
        "            [\n",
        "                sum(wl.params[\"holding_cost\"]) for wl in self.params[\"weekly_logs\"]\n",
        "            ]\n",
        "        ) / log_statistics[\"episodic_total_cost_mean\"]\n",
        "\n",
        "        # calculate the shortage cost ratio compared to total cost for all realizations\n",
        "        log_statistics[\"episodic_shortage_cost_ratio\"] = np.mean(\n",
        "            [\n",
        "                sum(wl.params[\"shortage_cost\"]) for wl in self.params[\"weekly_logs\"]\n",
        "            ]\n",
        "        ) / log_statistics[\"episodic_total_cost_mean\"]\n",
        "\n",
        "        # calculate the transportation cost ratio compared to total cost for all realizations\n",
        "        log_statistics[\"episodic_transportation_cost_ratio\"] = np.mean(\n",
        "            [\n",
        "                sum(wl.params[\"transportation_cost\"]) for wl in self.params[\"weekly_logs\"]\n",
        "            ]\n",
        "        ) / log_statistics[\"episodic_total_cost_mean\"]\n",
        "\n",
        "        # calculate service level\n",
        "        log_statistics[\"episodic_service_level_mean\"] = np.mean(\n",
        "            [sum(wl.params[\"n_served_demand\"]) /\n",
        "             (sum(wl.params[\"n_served_demand\"]) + sum(wl.params[\"n_unserved_demand\"])) for wl in self.params[\"weekly_logs\"]])\n",
        "\n",
        "        return log_statistics\n",
        "\n",
        "    def create_episodic_inventory_plot(self):\n",
        "\n",
        "        fig = go.Figure()\n",
        "        df = pd.DataFrame()\n",
        "\n",
        "        inventory_dims = [\"n_demand\", \"n_served_demand\", \"n_unserved_demand\", \"n_incoming_supply\", \"n_inventory_on_hand\", \"n_ordered\"]\n",
        "\n",
        "        for idx, episode in enumerate(self.params[\"weekly_logs\"]):\n",
        "            episode.params[\"episode\"] = [idx] * len(episode.params[\"t\"])\n",
        "            df = pd.concat([df, pd.DataFrame(data=episode.params)])\n",
        "            fig.add_traces(\n",
        "                [\n",
        "                    go.Scatter(visible=idx == 0, line=dict(color=\"#000000\", width=6),\n",
        "                               name=\"n served demand\", x=episode.params[\"t\"],\n",
        "                               y=episode.params[\"n_served_demand\"]),\n",
        "                    go.Scatter(visible=idx == 0, line=dict(color=\"#0000FF\", width=6),\n",
        "                               name=\"n unserved demand\", x=episode.params[\"t\"],\n",
        "                               y=episode.params[\"n_unserved_demand\"]),\n",
        "                    go.Scatter(visible=idx == 0, line=dict(color=\"#FF0000\", width=6),\n",
        "                               name=\"n incoming supply\", x=episode.params[\"t\"],\n",
        "                               y=episode.params[\"n_incoming_supply\"]),\n",
        "                    go.Scatter(visible=idx == 0, line=dict(color=\"#00FF00\", width=6),\n",
        "                               name=\"n inventory on hand\", x=episode.params[\"t\"],\n",
        "                               y=episode.params[\"n_inventory_on_hand\"]),\n",
        "                    go.Scatter(visible=idx == 0, line=dict(color=\"#00FF00\", width=6),\n",
        "                               name=\"n demand\", x=episode.params[\"t\"],\n",
        "                               y=episode.params[\"n_demand\"]),\n",
        "                    go.Scatter(visible=idx == 0, line=dict(color=\"#00FF00\", width=6),\n",
        "                               name=\"n ordered\", x=episode.params[\"t\"],\n",
        "                               y=episode.params[\"n_ordered\"])\n",
        "                ]\n",
        "            )\n",
        "\n",
        "        steps = []\n",
        "        for i in range(len(self.params[\"weekly_logs\"])):\n",
        "            step = {\n",
        "                \"method\": \"update\",\n",
        "                \"args\": [\n",
        "                    {\"visible\": [False] * len(fig.data)},\n",
        "                    {\"title\": \"Inventory levels\"}\n",
        "                ]\n",
        "            }\n",
        "            step[\"args\"][0][\"visible\"][4*i:4*i+len(inventory_dims)] = [True] * len(inventory_dims)\n",
        "            steps.append(step)\n",
        "\n",
        "        sliders = [\n",
        "            {\n",
        "                \"active\": 0,\n",
        "                \"currentvalue\": {\"prefix\": \"Episode: \"},\n",
        "                \"pad\": {\"t\": 50},\n",
        "                \"steps\": steps\n",
        "            }\n",
        "        ]\n",
        "\n",
        "        fig.update_layout(sliders=sliders)\n",
        "\n",
        "        fig.show()\n",
        "\n",
        "    def create_episodic_cost_plot(self):\n",
        "\n",
        "        fig = go.Figure()\n",
        "        df = pd.DataFrame()\n",
        "\n",
        "        cost_dims = [\"total_cost\", \"holding_cost\", \"shortage_cost\", \"transportation_cost\"]\n",
        "\n",
        "        for idx, episode in enumerate(self.params[\"weekly_logs\"]):\n",
        "            episode.params[\"episode\"] = [idx] * len(episode.params[\"t\"])\n",
        "            df = pd.concat([df, pd.DataFrame(data=episode.params)])\n",
        "            fig.add_traces(\n",
        "                [\n",
        "                    go.Scatter(visible=idx == 0, line=dict(color=\"#000000\", width=6),\n",
        "                               name=\"Total cost [CHF]\", x=episode.params[\"t\"],\n",
        "                               y=episode.params[\"total_cost\"]),\n",
        "                    go.Scatter(visible=idx == 0, line=dict(color=\"#0000FF\", width=6),\n",
        "                               name=\"Holding cost [CHF]\", x=episode.params[\"t\"],\n",
        "                               y=episode.params[\"holding_cost\"]),\n",
        "                    go.Scatter(visible=idx == 0, line=dict(color=\"#FF0000\", width=6),\n",
        "                               name=\"Shortage cost [CHF]\", x=episode.params[\"t\"],\n",
        "                               y=episode.params[\"shortage_cost\"]),\n",
        "                    go.Scatter(visible=idx == 0, line=dict(color=\"#00FF00\", width=6),\n",
        "                               name=\"Transportation cost [CHF]\", x=episode.params[\"t\"],\n",
        "                               y=episode.params[\"transportation_cost\"])\n",
        "                ]\n",
        "            )\n",
        "\n",
        "        steps = []\n",
        "        for i in range(len(self.params[\"weekly_logs\"])):\n",
        "            step = {\n",
        "                \"method\": \"update\",\n",
        "                \"args\": [\n",
        "                    {\"visible\": [False] * len(fig.data)},\n",
        "                    {\"title\": \"Cost by week\"}\n",
        "                ]\n",
        "            }\n",
        "            step[\"args\"][0][\"visible\"][4*i:4*i+len(cost_dims)] = [True] * len(cost_dims)\n",
        "            steps.append(step)\n",
        "\n",
        "        sliders = [\n",
        "            {\n",
        "                \"active\": 0,\n",
        "                \"currentvalue\": {\"prefix\": \"Episode: \"},\n",
        "                \"pad\": {\"t\": 50},\n",
        "                \"steps\": steps\n",
        "            }\n",
        "        ]\n",
        "\n",
        "        fig.update_layout(sliders=sliders)\n",
        "\n",
        "        fig.show()\n",
        "\n",
        "    def create_policy_performance_plot(self):\n",
        "\n",
        "        log_statistics = self.create_log_statistics()\n",
        "        df = pd.DataFrame(data={\"Total cost [CHF]\": log_statistics[\"episodic_cost_distribution\"]})\n",
        "        fig = px.histogram(df, x=\"Total cost [CHF]\", nbins=100)\n",
        "        fig.add_annotation(\n",
        "            text=f\"Mean cost: {int(log_statistics['episodic_total_cost_mean'] * 10 ** -3)}K CHF <br>\"\n",
        "                 f\"Max. cost: {int(log_statistics['episodic_total_cost_max'] * 10 ** -3)}K CHF <br>\"\n",
        "                 f\"Holding cost ratio: {round(100 * log_statistics['episodic_holding_cost_ratio'])}% <br>\"\n",
        "                 f\"Shortage cost ratio: {round(100 * log_statistics['episodic_shortage_cost_ratio'])}% <br>\"\n",
        "                 f\"Transportation cost ratio: {round(100 * log_statistics['episodic_transportation_cost_ratio'])}% <br>\"\n",
        "                 f\"Service level: {round(100 * log_statistics['episodic_service_level_mean'])}\",\n",
        "            align='left',\n",
        "            showarrow=False,\n",
        "            xref='paper',\n",
        "            yref='paper',\n",
        "            x=0.9,\n",
        "            y=0.8,\n",
        "            bordercolor='black',\n",
        "            borderwidth=1\n",
        "        )\n",
        "        fig.show()"
      ],
      "metadata": {
        "id": "GQis_lF1Elzq"
      },
      "id": "GQis_lF1Elzq",
      "execution_count": null,
      "outputs": []
    },
    {
      "cell_type": "markdown",
      "id": "4ac21fe5-8f99-4e33-8eb1-fa54a9fd0879",
      "metadata": {
        "id": "4ac21fe5-8f99-4e33-8eb1-fa54a9fd0879"
      },
      "source": [
        "# 5. Environment Modeling"
      ]
    },
    {
      "cell_type": "markdown",
      "id": "2a07660a-99e7-4e9f-b0ed-da5e9b3d3724",
      "metadata": {
        "id": "2a07660a-99e7-4e9f-b0ed-da5e9b3d3724"
      },
      "source": [
        "**Step 5.1:** Build a Shipment class."
      ]
    },
    {
      "cell_type": "code",
      "execution_count": null,
      "id": "c079a83e-9ab8-46d5-80b7-a4af739216e3",
      "metadata": {
        "id": "c079a83e-9ab8-46d5-80b7-a4af739216e3"
      },
      "outputs": [],
      "source": [
        "class Shipment:\n",
        "    def __init__(self, qty, t, delay=0):\n",
        "        \"\"\"Add two class attributes to the constructor. self.quantity reflects the\n",
        "        number of products included in the shipment. Assign the qty argument to this\n",
        "        attribute. Furthermore, self.t_arrival reflects the time of arrival at the\n",
        "        target location. t_arrival is defined as the sum of the current day t (from\n",
        "        the constructor-argument) and the lead_time_in_days attribute. The\n",
        "        lead_time_in_days attribute can be accessed with:\n",
        "        config[\"retail_warehouse\"][\"lead_time_in_days\"]. Optionally, the\n",
        "        lead_time_in_days can be increased by a delay variable from the constructor\n",
        "        argument list. Hint: to add days to a datetime object you can use a\n",
        "        pd.DateOffset object.\n",
        "        \"\"\"\n",
        "\n",
        "    def has_arrived(self, t_today):\n",
        "        \"\"\"Implement a logic, that returns True if t_today is larger or equal (>=)\n",
        "        the self.t_arrival attribute of the object. False otherwise.\"\"\""
      ]
    },
    {
      "cell_type": "markdown",
      "id": "7cbce22d-c5f3-40c0-91fd-00ac49b0ed37",
      "metadata": {
        "id": "7cbce22d-c5f3-40c0-91fd-00ac49b0ed37"
      },
      "source": [
        "**Step 5.2:** Build an InventorySystem class."
      ]
    },
    {
      "cell_type": "code",
      "execution_count": null,
      "id": "f7bee80c-b748-4a3f-aeec-0d83cab3773a",
      "metadata": {
        "id": "f7bee80c-b748-4a3f-aeec-0d83cab3773a"
      },
      "outputs": [],
      "source": [
        "class InventorySystem:\n",
        "    def __init__(self, src_node):\n",
        "        self.ioh = None\n",
        "        self.src_node = None\n",
        "\n",
        "    def reset(self):\n",
        "        pass"
      ]
    },
    {
      "cell_type": "markdown",
      "id": "92551751-43cb-4dc0-9bb1-fc89ddfd1037",
      "metadata": {
        "id": "92551751-43cb-4dc0-9bb1-fc89ddfd1037"
      },
      "source": [
        "**Step 5.3:** Build a Factory class."
      ]
    },
    {
      "cell_type": "code",
      "execution_count": null,
      "id": "e44a201d-d27a-44f1-b1c3-b016e20d79a9",
      "metadata": {
        "id": "e44a201d-d27a-44f1-b1c3-b016e20d79a9"
      },
      "outputs": [],
      "source": [
        "class Factory(InventorySystem):\n",
        "    def __init__(self, src_node=None):\n",
        "        super().__init__(src_node)\n",
        "        self.src_node = None\n",
        "\n",
        "    def produce(self, qty, t, delay):\n",
        "        \"\"\"Write a produce method. This method takes qty, t, and delay as argument,\n",
        "        whereas qty is an integer representing the production quantity. t is a datetime\n",
        "        object representing the current day of simulation, and delay is an integer\n",
        "        representing the number of days delay of a shipment due to external factors.\n",
        "\n",
        "        If the production quantity is greater than 0, return a list with one Shipment\n",
        "        object in it. The Shipment object receives a quantity, the datetime and the delay\n",
        "        as argument.\n",
        "\n",
        "        If the production quantity is 0, an empty list shall be returned.\"\"\""
      ]
    },
    {
      "cell_type": "markdown",
      "id": "6e63dc8d-e5e4-4ca3-96a5-29c55b53bbab",
      "metadata": {
        "id": "6e63dc8d-e5e4-4ca3-96a5-29c55b53bbab"
      },
      "source": [
        "**Step 5.4:** Build a RetailWarehouse class."
      ]
    },
    {
      "cell_type": "code",
      "execution_count": null,
      "id": "2eb924e5-774c-4a16-bd90-3246624af5c0",
      "metadata": {
        "id": "2eb924e5-774c-4a16-bd90-3246624af5c0"
      },
      "outputs": [],
      "source": [
        "class RetailWarehouse(InventorySystem):\n",
        "    def __init__(self, src_node):\n",
        "        super().__init__(src_node)\n",
        "        self.ioh = config[\"retail_warehouse\"][\"start_ioh\"]\n",
        "        self.shipments = []\n",
        "\n",
        "    def register_open_order(self, shipment):\n",
        "        self.shipments += shipment\n",
        "\n",
        "    def replenish(self, t):\n",
        "        \"\"\"Write the replenish method. Initialize a variable named processed as\n",
        "        an empty list. Initialize a variable named n_incoming as 0. Iterate over\n",
        "        each shipment in self.shipments with a for loop. Check if the shipment\n",
        "        has arrived. If it has arrived, increase the n_incoming with the shipment\n",
        "        quantity and append the shipment to the processed list. After the for loop,\n",
        "        increase the self.ioh by the number of incoming products. Remove the\n",
        "        processed shipments from the self.shipments list.\"\"\"\n",
        "\n",
        "    def reset(self):\n",
        "        \"\"\"After running through one episode (in this case =\"one version of the future\"\n",
        "        in terms of demand materialization, the next episode shall start with the same\n",
        "        start conditions. Thus, set the self.ioh attribute to the start_ioh as done within\n",
        "        the constructor.)\"\"\"\n",
        "\n",
        "    def sell(self, qty):\n",
        "        \"\"\"The retail warehouse sells products directly to the customers. The sell method\n",
        "        receives the demand quantity as an argument followed by a couple of checks. Firstly,\n",
        "        it is checked whether the self.ioh is sufficient to fulfill the demand. Then, this\n",
        "        information is used to generate two new variables: number of sold products (n_sold)\n",
        "        and number of not_sold products (n_not_sold). The latter is the number of products\n",
        "        that could have been sold due to the demand - however, were not sold due to insuficient\n",
        "        inventory. Lastly, the n_sold is used to reduce the self.ioh. This method has n_sold\n",
        "        and n_not_sold as return variables.\"\"\""
      ]
    },
    {
      "cell_type": "markdown",
      "id": "b6f940a8-ba86-4535-a3ca-6e642fd59861",
      "metadata": {
        "id": "b6f940a8-ba86-4535-a3ca-6e642fd59861"
      },
      "source": [
        "**Step 5.5:** Build a Environment class."
      ]
    },
    {
      "cell_type": "code",
      "execution_count": null,
      "id": "59d953eb-b2aa-4032-b21a-a0bc284beb33",
      "metadata": {
        "id": "59d953eb-b2aa-4032-b21a-a0bc284beb33"
      },
      "outputs": [],
      "source": [
        "class Environment:\n",
        "    def __init__(self, factory, retail_warehouse, env_args):\n",
        "        self.args = env_args\n",
        "        self.factory = factory\n",
        "        self.retail_warehouse = retail_warehouse\n",
        "\n",
        "    def step(self, action, demand, t):\n",
        "        # create new shipment\n",
        "        delay = 0\n",
        "        if self.args is not None and len(self.args[\"lead_time_delay\"]) > 0:\n",
        "            delay = self.args[\"lead_time_delay\"].pop(0)\n",
        "        shipment = self.factory.produce(action, t, delay)\n",
        "        self.retail_warehouse.register_open_order(shipment)\n",
        "\n",
        "        \"\"\"replenish inventory in retail_warehouse for incoming shipments\"\"\"\n",
        "\n",
        "        \"\"\"deduct the demand from the retail_warehouse\"\"\"\n",
        "\n",
        "        \"\"\"calculate the shortage cost. It is defined as the product of n_not_sold\n",
        "        multiplied with the sales_price and the lost_sales_multiplier. Both factors\n",
        "        can be accessed from the config[\"retail_warehouse\"] dictionary.\"\"\"\n",
        "\n",
        "        \"\"\"calculate the holding cost. It is defined as the product of the inventory\n",
        "        on hand in the retail_warehouse and the purchase_price and the holding_cost_multiplier.\n",
        "        Both factors can be accessed from the config[\"retail_warehouse\"] dictionary.\"\"\"\n",
        "\n",
        "        \"\"\"calculate the transportation cost. This cost is either 0 (when there is no reorder)\n",
        "        or equals the transportation cost from the config[\"retail_warehouse\"] dictionary.\"\"\"\n",
        "\n",
        "        \"\"\"calculate the total_cost. The total_cost is defined as the sum of holding, shortage\n",
        "        and transportation cost.\"\"\"\n",
        "\n",
        "        # The meta_data can be ignored for now. We use it to log the results which\n",
        "        # will become relevant later during the analysis.\n",
        "        meta_data = {\n",
        "            \"total_cost\": total_cost,\n",
        "            \"holding_cost\": holding_cost,\n",
        "            \"shortage_cost\": shortage_cost,\n",
        "            \"transportation_cost\": transportation_cost,\n",
        "            \"n_demand\": demand,\n",
        "            \"n_ordered\": action,\n",
        "            \"n_served_demand\": n_sold,\n",
        "            \"n_unserved_demand\": n_not_sold,\n",
        "            \"n_incoming_supply\": n_incoming,\n",
        "            \"n_inventory_on_hand\": self.retail_warehouse.ioh\n",
        "        }\n",
        "\n",
        "        # the new state is equal to the inventory on hand level within the retail warehouse.\n",
        "        new_state = self.retail_warehouse.ioh\n",
        "\n",
        "        return total_cost, new_state, meta_data\n",
        "\n",
        "    def reset(self):\n",
        "        self.retail_warehouse.reset()\n",
        "        self.factory.reset()\n",
        "        return self.retail_warehouse.ioh"
      ]
    },
    {
      "cell_type": "markdown",
      "id": "dbc2dc21-8caf-46f3-9d39-8868f2ca7e5e",
      "metadata": {
        "id": "dbc2dc21-8caf-46f3-9d39-8868f2ca7e5e"
      },
      "source": [
        "# 6. Agent Modeling"
      ]
    },
    {
      "cell_type": "markdown",
      "id": "d12dfe94-0e6a-46e6-8b0b-5a7e515a9df7",
      "metadata": {
        "id": "d12dfe94-0e6a-46e6-8b0b-5a7e515a9df7"
      },
      "source": [
        "**Step 6.1:** Build an agent class. The agent interacts with the environment by assessing the current state and making decisions accordingly. These decisions, such as determining the reorder quantity, are then communicated back to the environment for implementation. The agent operates according to a predefined policy, which dictates the relationship between the environment state and the corresponding action taken. In this instance, we solely extract time information from the environment state; however, in more intricate scenarios, we may incorporate additional detailed state information."
      ]
    },
    {
      "cell_type": "code",
      "execution_count": null,
      "id": "e94b2546-a2f3-489e-a7de-0ca26c916731",
      "metadata": {
        "id": "e94b2546-a2f3-489e-a7de-0ca26c916731"
      },
      "outputs": [],
      "source": [
        "class Agent:\n",
        "    def __init__(self, policy):\n",
        "        self.policy = policy\n",
        "\n",
        "    def select_action(self, state, t):\n",
        "        return self.policy.select_action(state, t)"
      ]
    },
    {
      "cell_type": "markdown",
      "id": "1df5449b-c734-40ad-afd0-30674983e8cc",
      "metadata": {
        "id": "1df5449b-c734-40ad-afd0-30674983e8cc"
      },
      "source": [
        "**Step 6.2:** Build a MonthlyReorderPolicy class. This class is characterized by a name and a quantities attribute. The quantities represent a list of reorder quantities utilized when within the first week of a month; otherwise, the select_action method returns 0. The get_params method is implemented to retrieve parameters essential for logging purposes."
      ]
    },
    {
      "cell_type": "code",
      "execution_count": null,
      "id": "01c0327d-5bc7-4782-86f5-e30dfc1cef18",
      "metadata": {
        "id": "01c0327d-5bc7-4782-86f5-e30dfc1cef18"
      },
      "outputs": [],
      "source": [
        "class MonthlyReorderPolicy:\n",
        "    def __init__(self, quantities=None):\n",
        "        self.name = \"monthly_reorder_policy\"\n",
        "        self.quantities = config[self.name][\"quantities\"] if quantities is None else quantities\n",
        "        self.counter = 0\n",
        "\n",
        "    def get_params(self):\n",
        "        return {\"name\": self.name, \"quantities\": config[self.name][\"quantities\"]}\n",
        "\n",
        "    def select_action(self, state, t):\n",
        "        \"\"\"implement the select_action method. This method returns the reorder quantity.\n",
        "        The reorder quantity is 0 in the case that the current time t is not within the\n",
        "        first week of a month. We can check the day_of_month with the t.day attribute.\n",
        "        The reorder quantity is picked from the self.quantities list whenever t is within\n",
        "        the first week of a month. We must be sure to pick the right quantity from the\n",
        "        self.quantities list. Thus, we access the element with the self.counter attribute.\n",
        "        In the first month, the counter is 0, then it is incremented by 1 everytime when\n",
        "        t.day is within the first week of the month.\"\"\""
      ]
    },
    {
      "cell_type": "markdown",
      "id": "5596db66-4e43-4868-8e07-1c63b3abaaa6",
      "metadata": {
        "id": "5596db66-4e43-4868-8e07-1c63b3abaaa6"
      },
      "source": [
        "# 7. Build the Simulation Framework\n",
        "\n",
        "**Step 7.1**: The simulate function encompasses three main tasks: (1) setting up all logger, warehouses, agents, and env objects; (2) iterating over each demand scenario provided in the simulations.csv dataset; and (3) iterating over each demand value within a given demand scenario."
      ]
    },
    {
      "cell_type": "code",
      "execution_count": null,
      "id": "5b314429-97f9-484b-aa72-ccecee8690fd",
      "metadata": {
        "id": "5b314429-97f9-484b-aa72-ccecee8690fd"
      },
      "outputs": [],
      "source": [
        "def simulate(policy, env_args=None):\n",
        "\n",
        "    df_full = pd.read_csv(\"simulations.csv\", index_col=0)\n",
        "    df_full.index = pd.to_datetime(df_full.index)\n",
        "\n",
        "    \"\"\"create a factory and a retail_warehouse object with src_node=factory.\"\"\"\n",
        "\n",
        "    \"\"\"create an agent and an env object of class Agent and Environment.\"\"\"\n",
        "\n",
        "    episode_logger = Logger()\n",
        "\n",
        "    # iterate over each demand scenario with a for loop. One column represents\n",
        "    # one demand scenario.\n",
        "    for col in df_full.columns:\n",
        "        df_part = df_full[col]\n",
        "\n",
        "        \"\"\"prepare the simulation for the demand scenario.\n",
        "        - Set total_cost to 0.\n",
        "        - Get the initial state of the environment with env.reset()\n",
        "        - Set the policy counter attribute to 0\n",
        "        - Create a weekly_logger object of class Logger() \"\"\"\n",
        "\n",
        "        # iterate over each date within the demand scenario. t equals the date,\n",
        "        # demand represents the number of product requests for within t.\n",
        "        for t, demand in df_part.items():\n",
        "\n",
        "            # constraint: demand is positive and is measured in natural numbers.\n",
        "            demand = round(max(demand, 0))\n",
        "\n",
        "            \"\"\"get the action with the select_action method from the agent.\"\"\"\n",
        "\n",
        "            \"\"\"apply the action to the Environment with the step method. Find the\n",
        "            required arguments in the step function definition (in the Environment\n",
        "            class). This method returns cost, new_state and meta_data.\"\"\"\n",
        "\n",
        "            \"\"\"Add the cost from the current time step to the total_cost.\"\"\"\n",
        "\n",
        "            # Set the state as the new state, update meta_data and log_values within\n",
        "            # the weekly_logger object\n",
        "            state = new_state\n",
        "            meta_data.update({\"t\": t, \"action\": action})\n",
        "            weekly_logger.log_values(meta_data)\n",
        "\n",
        "        # Log demand scenario and weekly_logger within the episode_logger object.\n",
        "        episode_logger.log_values(\n",
        "            {\n",
        "                \"col\": col,\n",
        "                \"weekly_logs\": weekly_logger,\n",
        "            }\n",
        "        )\n",
        "\n",
        "    # get, print and return the cost (together with the episode_logger)\n",
        "    cost = episode_logger.create_log_statistics()[\"episodic_total_cost_mean\"]\n",
        "    print(cost)\n",
        "\n",
        "    return cost, episode_logger"
      ]
    },
    {
      "cell_type": "markdown",
      "id": "23847838-3a50-4596-b1c2-d826b0e0d3b1",
      "metadata": {
        "id": "23847838-3a50-4596-b1c2-d826b0e0d3b1"
      },
      "source": [
        "# 8. Decision-Making\n",
        "**Step 8.1:** Explore the agent / environment interaction"
      ]
    },
    {
      "cell_type": "code",
      "execution_count": null,
      "id": "379af965-88aa-4e3c-af5f-b94fa9b382a9",
      "metadata": {
        "id": "379af965-88aa-4e3c-af5f-b94fa9b382a9"
      },
      "outputs": [],
      "source": [
        "policy = MonthlyReorderPolicy()\n",
        "policy.quantities = [100, 100, 100, 100, 100, 100, 100, 100, 100, 100, 100, 100]\n",
        "_, artifacts = simulate(policy)"
      ]
    },
    {
      "cell_type": "code",
      "execution_count": null,
      "id": "8046d260-0df4-4c52-b8de-9d6885aea36a",
      "metadata": {
        "id": "8046d260-0df4-4c52-b8de-9d6885aea36a"
      },
      "outputs": [],
      "source": [
        "\"\"\"Analyze the cost distribution with artifacts.create_policy_performance_plot().\n",
        "Describe in 3 sentences what you can see as a comment.\"\"\""
      ]
    },
    {
      "cell_type": "code",
      "execution_count": null,
      "id": "92f323b3-f23c-4f97-8b29-3d271c6f6be0",
      "metadata": {
        "id": "92f323b3-f23c-4f97-8b29-3d271c6f6be0"
      },
      "outputs": [],
      "source": [
        "\"\"\"Analyze the inventory levels with artifacts.create_episodic_inventory_plot().\n",
        "Describe in 3 sentences what you can see as a comment.\"\"\""
      ]
    },
    {
      "cell_type": "markdown",
      "source": [
        "**Step 8.2**: Analyze the plots, try to find reorder quantities that reduce the mean cost."
      ],
      "metadata": {
        "id": "SDqjA_CqF2D_"
      },
      "id": "SDqjA_CqF2D_"
    },
    {
      "cell_type": "markdown",
      "id": "2002296b-ec40-430e-b529-ba4baf3ae50d",
      "metadata": {
        "id": "2002296b-ec40-430e-b529-ba4baf3ae50d"
      },
      "source": [
        "**Step 11**: Analyze the plots, try to find reorder quantities that reduce the mean cost."
      ]
    },
    {
      "cell_type": "code",
      "execution_count": null,
      "id": "11b55af1-7851-46d2-b876-4108299aff80",
      "metadata": {
        "id": "11b55af1-7851-46d2-b876-4108299aff80"
      },
      "outputs": [],
      "source": [
        "\"\"\"Now, after you have analyzed and documented the consequences of a policy, that\n",
        "reorders 100 products every month, you can think about how to change the policy,\n",
        "so that the expected cost go down. How far can you minimize the inventory cost?\n",
        "- Manipulate the reorder quantities in the policy.quantities list\n",
        "- Run the simulation\n",
        "- Create plots as above\n",
        "- Observe differences and rerun until you minimized the cost\"\"\"\n",
        "\n",
        "policy.quantities = [200, 200, 200, 200, 200, 200, 200, 200, 200, 200, 200, 200]"
      ]
    },
    {
      "cell_type": "markdown",
      "id": "064350e6-b114-425f-bea6-ff0461d99556",
      "metadata": {
        "id": "064350e6-b114-425f-bea6-ff0461d99556"
      },
      "source": [
        "**Step 12:** Apply an optimization algorithm to find the optimal mean cost possible"
      ]
    },
    {
      "cell_type": "code",
      "execution_count": null,
      "id": "d1e22348-067e-4059-ba05-03f61579b171",
      "metadata": {
        "id": "d1e22348-067e-4059-ba05-03f61579b171"
      },
      "outputs": [],
      "source": [
        "# We reduced the expected inventory cost by applying manual changes to the reorder\n",
        "# quantity list. However, this is time consuming and probably not optimal. Now we are\n",
        "# curious to find out the mathematically optimal quantities. Thus, we apply an optimization\n",
        "# algorithm.\n",
        "\n",
        "# definition of cost function\n",
        "def fun(quantities):\n",
        "    policy.quantities = quantities\n",
        "    cost, _ = simulate(policy)\n",
        "    return cost\n",
        "\n",
        "# optimization\n",
        "res = spo.minimize(fun, x0=policy.quantities, options={\"maxiter\": 10})\n",
        "policy.quantities = [int(x) for x in res.x]\n",
        "\n",
        "\"\"\"Question: Which are the optimal reorder quantities? What is the min. archievable cost?\"\"\""
      ]
    },
    {
      "cell_type": "code",
      "execution_count": null,
      "id": "48760d40-7f1f-431d-a5cc-a1d90b9c96df",
      "metadata": {
        "id": "48760d40-7f1f-431d-a5cc-a1d90b9c96df"
      },
      "outputs": [],
      "source": [
        "\"\"\"Task: Analyze the optimized policy\"\"\""
      ]
    },
    {
      "cell_type": "code",
      "execution_count": null,
      "id": "abcf4125-46d8-4c91-a5e2-b2062e830d2e",
      "metadata": {
        "id": "abcf4125-46d8-4c91-a5e2-b2062e830d2e"
      },
      "outputs": [],
      "source": []
    },
    {
      "cell_type": "code",
      "execution_count": null,
      "id": "b81c248e-bfa1-440e-b4aa-c2e4bfe51a93",
      "metadata": {
        "id": "b81c248e-bfa1-440e-b4aa-c2e4bfe51a93"
      },
      "outputs": [],
      "source": []
    },
    {
      "cell_type": "code",
      "execution_count": null,
      "id": "4ba438f0-78e7-4f14-b9f0-24769f939d44",
      "metadata": {
        "id": "4ba438f0-78e7-4f14-b9f0-24769f939d44"
      },
      "outputs": [],
      "source": []
    },
    {
      "cell_type": "code",
      "execution_count": null,
      "id": "d012cfe9-9f75-4a1b-9d5b-7c39f61f68e3",
      "metadata": {
        "id": "d012cfe9-9f75-4a1b-9d5b-7c39f61f68e3"
      },
      "outputs": [],
      "source": []
    },
    {
      "cell_type": "code",
      "execution_count": null,
      "id": "0b611491-28c2-4d6b-afa6-9df5d530b894",
      "metadata": {
        "id": "0b611491-28c2-4d6b-afa6-9df5d530b894"
      },
      "outputs": [],
      "source": []
    }
  ],
  "metadata": {
    "kernelspec": {
      "display_name": "Python 3 (ipykernel)",
      "language": "python",
      "name": "python3"
    },
    "language_info": {
      "codemirror_mode": {
        "name": "ipython",
        "version": 3
      },
      "file_extension": ".py",
      "mimetype": "text/x-python",
      "name": "python",
      "nbconvert_exporter": "python",
      "pygments_lexer": "ipython3",
      "version": "3.9.7"
    },
    "colab": {
      "provenance": [],
      "include_colab_link": true
    }
  },
  "nbformat": 4,
  "nbformat_minor": 5
}